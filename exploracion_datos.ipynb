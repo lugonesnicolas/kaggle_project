{
 "cells": [
  {
   "cell_type": "code",
   "execution_count": 1,
   "metadata": {},
   "outputs": [],
   "source": [
    "import sqlalchemy\n",
    "#Importacion de biblioteca Pandas\n",
    "import pandas as pd\n",
    "import locale"
   ]
  },
  {
   "cell_type": "code",
   "execution_count": 2,
   "metadata": {},
   "outputs": [
    {
     "data": {
      "text/plain": [
       "'es_AR.utf8'"
      ]
     },
     "execution_count": 2,
     "metadata": {},
     "output_type": "execute_result"
    }
   ],
   "source": [
    "# Descargamos el conjunto de datos de Kaggle\n",
    "df = pd.read_csv(\"A:\\programacion\\kaggle_project\\datasets\\ProductPriceIndex.csv\")\n",
    "locale.setlocale(locale.LC_ALL, \"es_AR.utf8\")"
   ]
  },
  {
   "cell_type": "code",
   "execution_count": 3,
   "metadata": {},
   "outputs": [
    {
     "data": {
      "text/html": [
       "<div>\n",
       "<style scoped>\n",
       "    .dataframe tbody tr th:only-of-type {\n",
       "        vertical-align: middle;\n",
       "    }\n",
       "\n",
       "    .dataframe tbody tr th {\n",
       "        vertical-align: top;\n",
       "    }\n",
       "\n",
       "    .dataframe thead th {\n",
       "        text-align: right;\n",
       "    }\n",
       "</style>\n",
       "<table border=\"1\" class=\"dataframe\">\n",
       "  <thead>\n",
       "    <tr style=\"text-align: right;\">\n",
       "      <th></th>\n",
       "      <th>productname</th>\n",
       "      <th>date</th>\n",
       "      <th>farmprice</th>\n",
       "      <th>atlantaretail</th>\n",
       "      <th>chicagoretail</th>\n",
       "      <th>losangelesretail</th>\n",
       "      <th>newyorkretail</th>\n",
       "      <th>averagespread</th>\n",
       "    </tr>\n",
       "  </thead>\n",
       "  <tbody>\n",
       "    <tr>\n",
       "      <th>0</th>\n",
       "      <td>Strawberries</td>\n",
       "      <td>2019-05-19</td>\n",
       "      <td>$1.16</td>\n",
       "      <td>$2.23</td>\n",
       "      <td>$1.70</td>\n",
       "      <td>$1.99</td>\n",
       "      <td>$2.54</td>\n",
       "      <td>82.33%</td>\n",
       "    </tr>\n",
       "    <tr>\n",
       "      <th>1</th>\n",
       "      <td>Romaine Lettuce</td>\n",
       "      <td>2019-05-19</td>\n",
       "      <td>$0.35</td>\n",
       "      <td>$1.72</td>\n",
       "      <td>$2.00</td>\n",
       "      <td>$1.69</td>\n",
       "      <td>$1.99</td>\n",
       "      <td>428.57%</td>\n",
       "    </tr>\n",
       "    <tr>\n",
       "      <th>2</th>\n",
       "      <td>Red Leaf Lettuce</td>\n",
       "      <td>2019-05-19</td>\n",
       "      <td>$0.32</td>\n",
       "      <td>$1.84</td>\n",
       "      <td>$1.84</td>\n",
       "      <td>$1.69</td>\n",
       "      <td>$1.89</td>\n",
       "      <td>467.19%</td>\n",
       "    </tr>\n",
       "    <tr>\n",
       "      <th>3</th>\n",
       "      <td>Potatoes</td>\n",
       "      <td>2019-05-19</td>\n",
       "      <td>$1.50</td>\n",
       "      <td>$5.32</td>\n",
       "      <td>$5.14</td>\n",
       "      <td>$3.99</td>\n",
       "      <td>$6.22</td>\n",
       "      <td>244.50%</td>\n",
       "    </tr>\n",
       "    <tr>\n",
       "      <th>4</th>\n",
       "      <td>Oranges</td>\n",
       "      <td>2019-05-19</td>\n",
       "      <td>$0.41</td>\n",
       "      <td>$1.42</td>\n",
       "      <td>$1.45</td>\n",
       "      <td>$1.34</td>\n",
       "      <td>$2.05</td>\n",
       "      <td>281.71%</td>\n",
       "    </tr>\n",
       "    <tr>\n",
       "      <th>...</th>\n",
       "      <td>...</td>\n",
       "      <td>...</td>\n",
       "      <td>...</td>\n",
       "      <td>...</td>\n",
       "      <td>...</td>\n",
       "      <td>...</td>\n",
       "      <td>...</td>\n",
       "      <td>...</td>\n",
       "    </tr>\n",
       "    <tr>\n",
       "      <th>15761</th>\n",
       "      <td>Broccoli Crowns</td>\n",
       "      <td>1999-10-24</td>\n",
       "      <td>$0.29</td>\n",
       "      <td>$1.46</td>\n",
       "      <td>$0.00</td>\n",
       "      <td>$0.97</td>\n",
       "      <td>$1.15</td>\n",
       "      <td>208.62%</td>\n",
       "    </tr>\n",
       "    <tr>\n",
       "      <th>15762</th>\n",
       "      <td>Broccoli Bunches</td>\n",
       "      <td>1999-10-24</td>\n",
       "      <td>$0.23</td>\n",
       "      <td>$1.21</td>\n",
       "      <td>$0.00</td>\n",
       "      <td>$0.84</td>\n",
       "      <td>$1.10</td>\n",
       "      <td>242.39%</td>\n",
       "    </tr>\n",
       "    <tr>\n",
       "      <th>15763</th>\n",
       "      <td>Cauliflower</td>\n",
       "      <td>1999-10-24</td>\n",
       "      <td>$0.19</td>\n",
       "      <td>$1.01</td>\n",
       "      <td>$0.00</td>\n",
       "      <td>$0.75</td>\n",
       "      <td>$0.92</td>\n",
       "      <td>252.63%</td>\n",
       "    </tr>\n",
       "    <tr>\n",
       "      <th>15764</th>\n",
       "      <td>Carrots</td>\n",
       "      <td>1999-10-24</td>\n",
       "      <td>$0.12</td>\n",
       "      <td>$0.64</td>\n",
       "      <td>$0.00</td>\n",
       "      <td>$0.84</td>\n",
       "      <td>$0.59</td>\n",
       "      <td>331.25%</td>\n",
       "    </tr>\n",
       "    <tr>\n",
       "      <th>15765</th>\n",
       "      <td>Cantaloupe</td>\n",
       "      <td>1999-10-24</td>\n",
       "      <td>$0.21</td>\n",
       "      <td>$0.54</td>\n",
       "      <td>$0.00</td>\n",
       "      <td>$0.56</td>\n",
       "      <td>$0.79</td>\n",
       "      <td>125.00%</td>\n",
       "    </tr>\n",
       "  </tbody>\n",
       "</table>\n",
       "<p>15766 rows × 8 columns</p>\n",
       "</div>"
      ],
      "text/plain": [
       "            productname        date farmprice atlantaretail chicagoretail  \\\n",
       "0          Strawberries  2019-05-19     $1.16         $2.23         $1.70   \n",
       "1       Romaine Lettuce  2019-05-19     $0.35         $1.72         $2.00   \n",
       "2      Red Leaf Lettuce  2019-05-19     $0.32         $1.84         $1.84   \n",
       "3              Potatoes  2019-05-19     $1.50         $5.32         $5.14   \n",
       "4               Oranges  2019-05-19     $0.41         $1.42         $1.45   \n",
       "...                 ...         ...       ...           ...           ...   \n",
       "15761   Broccoli Crowns  1999-10-24     $0.29         $1.46         $0.00   \n",
       "15762  Broccoli Bunches  1999-10-24     $0.23         $1.21         $0.00   \n",
       "15763       Cauliflower  1999-10-24     $0.19         $1.01         $0.00   \n",
       "15764           Carrots  1999-10-24     $0.12         $0.64         $0.00   \n",
       "15765        Cantaloupe  1999-10-24     $0.21         $0.54         $0.00   \n",
       "\n",
       "      losangelesretail newyorkretail averagespread  \n",
       "0                $1.99         $2.54        82.33%  \n",
       "1                $1.69         $1.99       428.57%  \n",
       "2                $1.69         $1.89       467.19%  \n",
       "3                $3.99         $6.22       244.50%  \n",
       "4                $1.34         $2.05       281.71%  \n",
       "...                ...           ...           ...  \n",
       "15761            $0.97         $1.15       208.62%  \n",
       "15762            $0.84         $1.10       242.39%  \n",
       "15763            $0.75         $0.92       252.63%  \n",
       "15764            $0.84         $0.59       331.25%  \n",
       "15765            $0.56         $0.79       125.00%  \n",
       "\n",
       "[15766 rows x 8 columns]"
      ]
     },
     "execution_count": 3,
     "metadata": {},
     "output_type": "execute_result"
    }
   ],
   "source": [
    "# Visualizamos los datos\n",
    "df"
   ]
  },
  {
   "cell_type": "code",
   "execution_count": 4,
   "metadata": {},
   "outputs": [],
   "source": [
    "# Eliminar la fila con el nombre vacío\n",
    "df = df.dropna(subset=['productname'])\n",
    "df = df.dropna(subset=['date'])"
   ]
  },
  {
   "cell_type": "code",
   "execution_count": 5,
   "metadata": {},
   "outputs": [],
   "source": [
    "df.columns = ['producto', 'fecha', 'precio_agricola', 'precio_atlanta', 'precio_chicago', 'precio_la', 'precio_ny', 'margen_venta']"
   ]
  },
  {
   "cell_type": "code",
   "execution_count": 6,
   "metadata": {},
   "outputs": [],
   "source": [
    "df['producto'] = df['producto'].astype('str')#Formato string\n",
    "df['fecha'] = pd.to_datetime(df['fecha'])#Formato a la fecha\n",
    "df['fecha'] = df['fecha'].dt.strftime(\"%d-%b-%Y\")#Modifico el fomato de la fecha"
   ]
  },
  {
   "cell_type": "code",
   "execution_count": 7,
   "metadata": {},
   "outputs": [],
   "source": [
    "df['margen_venta']=df['margen_venta'].str.replace('%', '').str.replace(',', '')\n",
    "df['margen_venta'] = pd.to_numeric(df['margen_venta'])"
   ]
  },
  {
   "cell_type": "code",
   "execution_count": 8,
   "metadata": {},
   "outputs": [],
   "source": [
    "columnas=df.columns\n",
    "for i in columnas:\n",
    "    if i!='producto' and i!='fecha' and i!='margen_venta':\n",
    "        df[i]=df[i].str.replace('$', '')\n",
    "        df[i] = pd.to_numeric(df[i])"
   ]
  },
  {
   "cell_type": "code",
   "execution_count": 9,
   "metadata": {},
   "outputs": [],
   "source": [
    "engine = sqlalchemy.create_engine(\"sqlite:///proyecto_agricola.db\")"
   ]
  },
  {
   "cell_type": "code",
   "execution_count": 10,
   "metadata": {},
   "outputs": [
    {
     "data": {
      "text/plain": [
       "15766"
      ]
     },
     "execution_count": 10,
     "metadata": {},
     "output_type": "execute_result"
    }
   ],
   "source": [
    "df.to_sql(\"precios\", engine, index=False)"
   ]
  }
 ],
 "metadata": {
  "kernelspec": {
   "display_name": ".venv",
   "language": "python",
   "name": "python3"
  },
  "language_info": {
   "codemirror_mode": {
    "name": "ipython",
    "version": 3
   },
   "file_extension": ".py",
   "mimetype": "text/x-python",
   "name": "python",
   "nbconvert_exporter": "python",
   "pygments_lexer": "ipython3",
   "version": "3.11.3"
  }
 },
 "nbformat": 4,
 "nbformat_minor": 2
}
